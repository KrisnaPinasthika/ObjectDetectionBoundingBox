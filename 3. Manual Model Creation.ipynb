{
 "cells": [
  {
   "cell_type": "code",
   "execution_count": null,
   "metadata": {},
   "outputs": [],
   "source": [
    "import numpy as np\n",
    "import pandas as pd\n",
    "import matplotlib.pyplot as plt\n",
    "\n",
    "import os\n",
    "import pathlib\n",
    "import PIL\n",
    "from PIL import Image \n",
    "from PIL.ImageDraw import Draw\n",
    "\n",
    "import tensorflow as tf\n",
    "from tensorflow import keras\n",
    "from tensorflow.keras import layers\n",
    "from tensorflow.keras.models import Sequential"
   ]
  },
  {
   "cell_type": "markdown",
   "metadata": {},
   "source": [
    "## Processing Data"
   ]
  },
  {
   "cell_type": "code",
   "execution_count": null,
   "metadata": {},
   "outputs": [],
   "source": [
    "def getImagesTargetsLabels(CSV_FILE, IMAGE_DIR):\n",
    "    image_records = pd.read_csv(CSV_FILE)\n",
    "    image_path = os.path.join(os.getcwd(), IMAGE_DIR)\n",
    "\n",
    "    images, targets, labels = ([], [], [])\n",
    "\n",
    "    for row in image_records.values:\n",
    "        (filename, width, height, class_name, xmin, ymin, xmax, ymax) = row\n",
    "        \n",
    "        train_image_fullpath = os.path.join(image_path, filename)\n",
    "        train_img = keras.preprocessing.image.load_img(train_image_fullpath, target_size=(height, width))\n",
    "        train_img_arr = keras.preprocessing.image.img_to_array(train_img)\n",
    "        train_img_arr = train_img_arr/255.\n",
    "        \n",
    "        xmin = round(xmin/ width, 2)\n",
    "        ymin = round(ymin/ height, 2)\n",
    "        xmax = round(xmax/ width, 2)\n",
    "        ymax = round(ymax/ height, 2)\n",
    "        \n",
    "        images.append(train_img_arr)\n",
    "        targets.append((xmin, ymin, xmax, ymax))    \n",
    "        labels.append(classes.index(class_name))\n",
    "    \n",
    "    return np.array(images), np.array(targets), np.array(labels)"
   ]
  },
  {
   "cell_type": "code",
   "execution_count": null,
   "metadata": {},
   "outputs": [],
   "source": [
    "TRAINING_CSV_FILE = os.path.join(os.getcwd(), 'Tensorflow', 'workspace', 'data', 'train.csv')\n",
    "TRAINING_IMAGE_DIR = os.path.join(os.getcwd(), 'Tensorflow', 'workspace', 'images', 'train')\n",
    "\n",
    "TESTING_CSV_FILE = os.path.join(os.getcwd(), 'Tensorflow', 'workspace', 'data', 'test.csv')\n",
    "TESTING_IMAGE_DIR = os.path.join(os.getcwd(), 'Tensorflow', 'workspace', 'images', 'test')"
   ]
  },
  {
   "cell_type": "code",
   "execution_count": null,
   "metadata": {},
   "outputs": [],
   "source": [
    "width = 640\n",
    "height = 480\n",
    "\n",
    "classes = ['LiveLong', 'ThankYou', 'ThumbsDown', 'ThumbsUp']\n",
    "num_classes = len(classes)"
   ]
  },
  {
   "cell_type": "code",
   "execution_count": null,
   "metadata": {},
   "outputs": [],
   "source": [
    "train_images, train_targets, train_labels = getImagesTargetsLabels(TRAINING_CSV_FILE, TRAINING_IMAGE_DIR)\n",
    "test_images, test_targets, test_labels = getImagesTargetsLabels(TESTING_CSV_FILE, TESTING_IMAGE_DIR)"
   ]
  },
  {
   "cell_type": "markdown",
   "metadata": {},
   "source": [
    "## Model Creation"
   ]
  },
  {
   "cell_type": "code",
   "execution_count": null,
   "metadata": {},
   "outputs": [],
   "source": [
    "#create the common input layer\n",
    "input_shape = (height, width, 3)\n",
    "input_layer = tf.keras.layers.Input(input_shape)\n",
    "\n",
    "#create the base layers\n",
    "base_layers = layers.experimental.preprocessing.Rescaling(1./1, name='bl_1')(input_layer)\n",
    "base_layers = layers.Conv2D(16, 3, padding='same', activation='relu', name='bl_2')(base_layers)\n",
    "base_layers = layers.MaxPooling2D(name='bl_3')(base_layers)\n",
    "base_layers = layers.Conv2D(32, 3, padding='same', activation='relu', name='bl_4')(base_layers)\n",
    "base_layers = layers.MaxPooling2D(name='bl_5')(base_layers)\n",
    "base_layers = layers.Conv2D(64, 3, padding='same', activation='relu', name='bl_6')(base_layers)\n",
    "base_layers = layers.MaxPooling2D(name='bl_7')(base_layers)\n",
    "base_layers = layers.Flatten(name='bl_8')(base_layers)\n",
    "\n",
    "#create the classifier branch\n",
    "classifier_branch = layers.Dense(128, activation='relu', name='cl_1')(base_layers)\n",
    "classifier_branch = layers.Dense(num_classes, name='classifier')(classifier_branch)  \n",
    "\n",
    "#create the localiser branch\n",
    "locator_branch = layers.Dense(128, activation='relu', name='bb_1')(base_layers)\n",
    "locator_branch = layers.Dense(64, activation='relu', name='bb_2')(locator_branch)\n",
    "locator_branch = layers.Dense(32, activation='relu', name='bb_3')(locator_branch)\n",
    "locator_branch = layers.Dense(4, activation='sigmoid', name='bounding_box')(locator_branch)"
   ]
  },
  {
   "cell_type": "code",
   "execution_count": null,
   "metadata": {},
   "outputs": [],
   "source": [
    "model = tf.keras.Model(\n",
    "                input_layer,\n",
    "                outputs=[classifier_branch, locator_branch]\n",
    "            )"
   ]
  },
  {
   "cell_type": "code",
   "execution_count": null,
   "metadata": {},
   "outputs": [],
   "source": [
    "model.summary()"
   ]
  },
  {
   "cell_type": "code",
   "execution_count": null,
   "metadata": {},
   "outputs": [],
   "source": [
    "losses = {\"classifier\":tf.keras.losses.SparseCategoricalCrossentropy(from_logits=True), \n",
    "            \"bounding_box\":tf.keras.losses.MSE}\n",
    "\n",
    "\n",
    "model.compile(loss=losses, optimizer='Adam', metrics=['accuracy'])"
   ]
  },
  {
   "cell_type": "code",
   "execution_count": null,
   "metadata": {},
   "outputs": [],
   "source": [
    "training_epochs = 30\n",
    "\n",
    "trainTargets = {\n",
    "    \"classifier\": train_labels,\n",
    "    \"bounding_box\": train_targets\n",
    "}\n",
    "validationTargets = {\n",
    "    \"classifier\": test_labels,\n",
    "    \"bounding_box\": test_targets\n",
    "}"
   ]
  },
  {
   "cell_type": "code",
   "execution_count": null,
   "metadata": {},
   "outputs": [],
   "source": [
    "history = model.fit(train_images, trainTargets,\n",
    "                validation_data=(test_images, validationTargets),\n",
    "                epochs=training_epochs,\n",
    "                shuffle=True,)"
   ]
  },
  {
   "cell_type": "markdown",
   "metadata": {},
   "source": [
    "## Testing"
   ]
  },
  {
   "cell_type": "markdown",
   "metadata": {},
   "source": [
    "### Manual"
   ]
  },
  {
   "cell_type": "code",
   "execution_count": null,
   "metadata": {},
   "outputs": [],
   "source": [
    "def getOriginalBBOX(bbox, width, height):\n",
    "    bbox = bbox.squeeze()\n",
    "    xmin = bbox[0] * width\n",
    "    ymin = bbox[1] * height\n",
    "    xmax = bbox[2] * width\n",
    "    ymax = bbox[3] * height\n",
    "    return xmin, ymin, xmax, ymax"
   ]
  },
  {
   "cell_type": "code",
   "execution_count": null,
   "metadata": {},
   "outputs": [],
   "source": [
    "predicting = test_images[2]\n",
    "cl_predict, bbox_predict = model.predict(np.expand_dims(predicting, axis=0))\n",
    "\n",
    "print(cl_predict)\n",
    "print(bbox_predict)"
   ]
  },
  {
   "cell_type": "code",
   "execution_count": null,
   "metadata": {},
   "outputs": [],
   "source": [
    "plt.title(f'Predicted as {classes[np.argmax(cl_predict)]}')\n",
    "plt.imshow(predicting)\n",
    "x_min, y_min, x_max, y_max = getOriginalBBOX(bbox_predict, width, height)\n",
    "\n",
    "scatter_color = 'lime'\n",
    "lw = 4\n",
    "\n",
    "plt.scatter(x_min, y_min, color=scatter_color)\n",
    "plt.scatter(x_min, y_max, color=scatter_color)\n",
    "plt.scatter(x_max, y_min, color=scatter_color)\n",
    "plt.scatter(x_max, y_max, color=scatter_color)\n",
    "\n",
    "# buat linenya\n",
    "# Todo: vertikal kiri\n",
    "y1_ver = np.arange(y_min, y_max)\n",
    "x1_ver = [x_min for i in range(len(y1_ver))]\n",
    "plt.plot(x1_ver, y1_ver, color=scatter_color, linewidth=lw) \n",
    "\n",
    "# # Todo: vertikal kanan\n",
    "x2_ver = [x_max for i in range(len(y1_ver))]\n",
    "plt.plot(x2_ver, y1_ver, color=scatter_color, linewidth=lw)\n",
    "\n",
    "# # Todo: horizontal atas\n",
    "x1_hor = np.arange(x_min, x_max)\n",
    "y1_hor = [y_min for i in range(len(x1_hor))]\n",
    "plt.plot(x1_hor, y1_hor, color=scatter_color, linewidth=lw)\n",
    "\n",
    "# # Todo: horizontal bawah\n",
    "y2_hor = [y_max for i in range(len(x1_hor))]\n",
    "plt.plot(x1_hor, y2_hor, color=scatter_color, linewidth=lw)"
   ]
  },
  {
   "cell_type": "markdown",
   "metadata": {},
   "source": [
    "### CV"
   ]
  },
  {
   "cell_type": "code",
   "execution_count": null,
   "metadata": {},
   "outputs": [],
   "source": [
    "import cv2 "
   ]
  },
  {
   "cell_type": "code",
   "execution_count": null,
   "metadata": {},
   "outputs": [],
   "source": [
    "cap = cv2.VideoCapture(0)\n",
    "width = int(cap.get(cv2.CAP_PROP_FRAME_WIDTH))\n",
    "height = int(cap.get(cv2.CAP_PROP_FRAME_HEIGHT))\n",
    "\n",
    "while cap.isOpened(): \n",
    "    ret, frame = cap.read()\n",
    "    image_np = np.array(frame)\n",
    "    \n",
    "    input_tensor = tf.convert_to_tensor(np.expand_dims(image_np, 0), dtype=tf.float32)\n",
    "    cl_predict, bbox_predict = model.predict(input_tensor/255.)\n",
    "    \n",
    "    predicted = classes[np.argmax(cl_predict)]\n",
    "    x_min, y_min, x_max, y_max = getOriginalBBOX(bbox_predict, width, height)\n",
    "    \n",
    "    # print(classes[np.argmax(cl_predict)])\n",
    "    # print(bbox_predict)\n",
    "    # print(x_min, y_min, x_max, y_max)\n",
    "    \n",
    "    # Window name in which image is displayed\n",
    "    window_name = 'Image'\n",
    "    \n",
    "    # represents the top left corner of rectangle\n",
    "    start_point = (int(x_min), int(y_min))\n",
    "    \n",
    "    # represents the bottom right corner of rectangle\n",
    "    end_point = (int(x_max), int(y_max))\n",
    "    \n",
    "    color = (0, 255, 0)\n",
    "    # Line thickness of 2 px\n",
    "    thickness = 2\n",
    "    \n",
    "    # Using cv2.rectangle() method\n",
    "    image = cv2.rectangle(image_np, start_point, end_point, color, thickness)\n",
    "    # cv2.putText(image, predicted, (int(x_min), int(y_min)-10), \n",
    "    #                 cv2.FONT_HERSHEY_SIMPLEX, 0.9, (int(x_max), int(y_max)), 2)\n",
    "    \n",
    "    #  put text: image, label, lokasi pojok kiri atas, font, fontscale, text color, font tickness\n",
    "    cv2.putText(image, predicted, (int(x_min), int(y_min)-10), \n",
    "                    cv2.FONT_HERSHEY_SIMPLEX, 1, (0, 255, 0), 2)\n",
    "    \n",
    "    # Displaying the image \n",
    "    cv2.imshow(window_name, image) \n",
    "\n",
    "    # cv2.imshow('object detection',  cv2.resize(image_np_with_detections, (width, height)))\n",
    "    \n",
    "    if cv2.waitKey(10) & 0xFF == ord('q'):\n",
    "        cap.release()\n",
    "        cv2.destroyAllWindows()\n",
    "        break"
   ]
  }
 ],
 "metadata": {
  "interpreter": {
   "hash": "82ed002fa2d4956f5c6aec99bcefe0f73a9f79882f3c9e2319b14958a5896ac5"
  },
  "kernelspec": {
   "display_name": "Python 3.9.6 64-bit",
   "language": "python",
   "name": "python3"
  },
  "language_info": {
   "codemirror_mode": {
    "name": "ipython",
    "version": 3
   },
   "file_extension": ".py",
   "mimetype": "text/x-python",
   "name": "python",
   "nbconvert_exporter": "python",
   "pygments_lexer": "ipython3",
   "version": "3.9.6"
  },
  "orig_nbformat": 4
 },
 "nbformat": 4,
 "nbformat_minor": 2
}
