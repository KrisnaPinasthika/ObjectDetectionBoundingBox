{
 "cells": [
  {
   "cell_type": "markdown",
   "metadata": {},
   "source": [
    "## Convert XML to CSV"
   ]
  },
  {
   "cell_type": "code",
   "execution_count": 1,
   "metadata": {},
   "outputs": [],
   "source": [
    "import os\n",
    "import glob\n",
    "import pandas as pd\n",
    "import xml.etree.ElementTree as ET\n",
    "import re"
   ]
  },
  {
   "cell_type": "code",
   "execution_count": 2,
   "metadata": {},
   "outputs": [],
   "source": [
    "classes = ['thumbsup', 'thumbsdown', 'jutsu',]\n",
    "num_classes = len(classes)"
   ]
  },
  {
   "cell_type": "code",
   "execution_count": 3,
   "metadata": {},
   "outputs": [],
   "source": [
    "def xml_to_csv(path):\n",
    "    \"\"\"\n",
    "    Cara penggunaan: \n",
    "    path : berisi path lokasi data xml pada folder train/test/validasi\n",
    "    \"\"\"\n",
    "    xml_list = []\n",
    "    \n",
    "    pattern = r'([\\w]*).'\n",
    "\n",
    "    for xml_file in glob.glob(path + '/*.xml'):\n",
    "        filename = xml_file.split(\"\\\\\")[-1]\n",
    "        searched = re.search(pattern, filename)\n",
    "        # print(searched.groups()[0])\n",
    "        \n",
    "        tree = ET.parse(xml_file)\n",
    "        root = tree.getroot()\n",
    "        \n",
    "        # print(tree)\n",
    "        # print(root)\n",
    "        \n",
    "        if root.find('object'):\n",
    "            for member in root.findall('object'):\n",
    "                bbx = member.find('bndbox')                \n",
    "                xmin = round(float(bbx.find('xmin').text))\n",
    "                ymin = round(float(bbx.find('ymin').text))\n",
    "                xmax = round(float(bbx.find('xmax').text))\n",
    "                ymax = round(float(bbx.find('ymax').text))\n",
    "                label = member.find('name').text\n",
    "                value = (root.find('filename').text,\n",
    "                            int(root.find('size')[0].text),\n",
    "                            int(root.find('size')[1].text),\n",
    "                            label,\n",
    "                            xmin,\n",
    "                            ymin,\n",
    "                            xmax,\n",
    "                            ymax\n",
    "                        )\n",
    "                # print(value)\n",
    "                xml_list.append(value)\n",
    "        \n",
    "    column_name = ['filename', 'width', 'height',\n",
    "                    'class', 'xmin', 'ymin', 'xmax', 'ymax']\n",
    "\n",
    "    xml_df = pd.DataFrame(xml_list, columns=column_name)\n",
    "    return xml_df"
   ]
  },
  {
   "cell_type": "code",
   "execution_count": 4,
   "metadata": {},
   "outputs": [
    {
     "name": "stdout",
     "output_type": "stream",
     "text": [
      "c:\\Users\\user\\Documents\\VisualStudioCode\\ObjectDetectionBoundingBox\\Tensorflow\\workspace\\data\\train.csv\n",
      "Successfully converted xml to csv.\n",
      "c:\\Users\\user\\Documents\\VisualStudioCode\\ObjectDetectionBoundingBox\\Tensorflow\\workspace\\data\\test.csv\n",
      "Successfully converted xml to csv.\n"
     ]
    }
   ],
   "source": [
    "datasets = ['train', 'test']\n",
    "\n",
    "for ds_type in datasets:\n",
    "    # image path = berisi path image dalam bentuk xml dengan tujuan dikonversi\n",
    "    image_path = os.path.join(os.getcwd(), 'Tensorflow', 'workspace', 'images', ds_type)\n",
    "    xml_df = xml_to_csv(image_path)\n",
    "    print(os.path.join(os.getcwd(), 'Tensorflow', 'workspace', 'data', f'{ds_type}.csv'))\n",
    "    xml_df.to_csv(os.path.join(os.getcwd(), 'Tensorflow', 'workspace', 'data', f'{ds_type}.csv'), index=None)\n",
    "    print('Successfully converted xml to csv.')"
   ]
  }
 ],
 "metadata": {
  "interpreter": {
   "hash": "82ed002fa2d4956f5c6aec99bcefe0f73a9f79882f3c9e2319b14958a5896ac5"
  },
  "kernelspec": {
   "display_name": "Python 3.9.6 64-bit",
   "language": "python",
   "name": "python3"
  },
  "language_info": {
   "codemirror_mode": {
    "name": "ipython",
    "version": 3
   },
   "file_extension": ".py",
   "mimetype": "text/x-python",
   "name": "python",
   "nbconvert_exporter": "python",
   "pygments_lexer": "ipython3",
   "version": "3.9.6"
  },
  "orig_nbformat": 4
 },
 "nbformat": 4,
 "nbformat_minor": 2
}
