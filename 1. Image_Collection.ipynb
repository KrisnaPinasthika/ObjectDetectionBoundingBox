{
 "cells": [
  {
   "cell_type": "markdown",
   "metadata": {},
   "source": [
    "# 1. Import Dependencies"
   ]
  },
  {
   "cell_type": "code",
   "execution_count": 1,
   "metadata": {},
   "outputs": [],
   "source": [
    "# Import opencv\n",
    "import cv2 \n",
    "\n",
    "# Import uuid\n",
    "import uuid\n",
    "\n",
    "# Import Operating System\n",
    "import os\n",
    "\n",
    "# Import time\n",
    "import time"
   ]
  },
  {
   "cell_type": "markdown",
   "metadata": {},
   "source": [
    "# 2. Define Images to Collect"
   ]
  },
  {
   "cell_type": "code",
   "execution_count": 2,
   "metadata": {},
   "outputs": [],
   "source": [
    "labels = ['thumbsup', 'thumbsdown', 'jutsu',]\n",
    "number_imgs = 20"
   ]
  },
  {
   "cell_type": "markdown",
   "metadata": {},
   "source": [
    "# 3. Setup Folders "
   ]
  },
  {
   "cell_type": "code",
   "execution_count": 3,
   "metadata": {},
   "outputs": [],
   "source": [
    "IMAGES_PATH = os.path.join('Tensorflow', 'workspace', 'images', 'collectedimages')"
   ]
  },
  {
   "cell_type": "code",
   "execution_count": 4,
   "metadata": {},
   "outputs": [],
   "source": [
    "if not os.path.exists(IMAGES_PATH):\n",
    "    os.mkdir(IMAGES_PATH)\n",
    "        \n",
    "for label in labels:\n",
    "    path = os.path.join(IMAGES_PATH, label)\n",
    "    if not os.path.exists(path):\n",
    "        os.mkdir(path)"
   ]
  },
  {
   "cell_type": "markdown",
   "metadata": {},
   "source": [
    "# 4. Capture Images"
   ]
  },
  {
   "cell_type": "code",
   "execution_count": null,
   "metadata": {},
   "outputs": [],
   "source": [
    "for label in labels:\n",
    "    cap = cv2.VideoCapture(0)\n",
    "    print('Collecting images for {}'.format(label))\n",
    "    time.sleep(3)\n",
    "    for imgnum in range(number_imgs):\n",
    "        print('Collecting image {}'.format(imgnum))\n",
    "        ret, frame = cap.read()\n",
    "        imgname = os.path.join(IMAGES_PATH,label,label+'.'+'{}.jpg'.format(str(uuid.uuid1())))\n",
    "        cv2.imwrite(imgname, frame)\n",
    "        cv2.imshow('frame', frame)\n",
    "        time.sleep(1)\n",
    "\n",
    "# if cv2.waitKey(1) & 0xFF == ord('q'):\n",
    "cap.release()\n",
    "cv2.destroyAllWindows()"
   ]
  },
  {
   "cell_type": "code",
   "execution_count": 13,
   "metadata": {},
   "outputs": [],
   "source": [
    "# # kalau ada error dan webcam ga mati\n",
    "# cap.release()\n",
    "# cv2.destroyAllWindows()"
   ]
  },
  {
   "cell_type": "code",
   "execution_count": 19,
   "metadata": {},
   "outputs": [
    {
     "name": "stdout",
     "output_type": "stream",
     "text": [
      "Label : thumbsup | 21\n",
      "Label : thumbsdown | 20\n",
      "Label : jutsu | 20\n"
     ]
    }
   ],
   "source": [
    "for label in labels:\n",
    "    print(f'Label : {label} | {len(os.listdir(os.path.join(IMAGES_PATH, label))) }')"
   ]
  },
  {
   "cell_type": "markdown",
   "metadata": {},
   "source": [
    "# 5. Image Labelling"
   ]
  },
  {
   "cell_type": "code",
   "execution_count": null,
   "metadata": {},
   "outputs": [],
   "source": [
    "!pip install --upgrade pyqt5 lxml"
   ]
  },
  {
   "cell_type": "code",
   "execution_count": 20,
   "metadata": {},
   "outputs": [],
   "source": [
    "LABELIMG_PATH = os.path.join('Tensorflow', 'labelimg')"
   ]
  },
  {
   "cell_type": "code",
   "execution_count": 21,
   "metadata": {},
   "outputs": [],
   "source": [
    "if not os.path.exists(LABELIMG_PATH):\n",
    "    !mkdir {LABELIMG_PATH}\n",
    "    !git clone https://github.com/tzutalin/labelImg {LABELIMG_PATH}"
   ]
  },
  {
   "cell_type": "code",
   "execution_count": 22,
   "metadata": {},
   "outputs": [],
   "source": [
    "if os.name == 'posix':\n",
    "    !make qt5py3\n",
    "if os.name =='nt':\n",
    "    !cd {LABELIMG_PATH} && pyrcc5 -o libs/resources.py resources.qrc"
   ]
  },
  {
   "cell_type": "code",
   "execution_count": null,
   "metadata": {},
   "outputs": [],
   "source": [
    "# Nanti muncul python gui, pakai python gui itu buat extract fitur\n",
    "!cd {LABELIMG_PATH} && python labelImg.py"
   ]
  },
  {
   "cell_type": "markdown",
   "metadata": {},
   "source": [
    "# 6. Move them into a Training and Testing Partition"
   ]
  },
  {
   "cell_type": "code",
   "execution_count": 27,
   "metadata": {},
   "outputs": [],
   "source": [
    "TRAIN_PATH = os.path.join('Tensorflow', 'workspace', 'images', 'train')\n",
    "TEST_PATH = os.path.join('Tensorflow', 'workspace', 'images', 'test')\n",
    "ARCHIVE_PATH = os.path.join('Tensorflow', 'workspace', 'images', 'archive.tar.gz')"
   ]
  },
  {
   "cell_type": "code",
   "execution_count": 28,
   "metadata": {},
   "outputs": [],
   "source": [
    "if not os.path.exists(TRAIN_PATH):\n",
    "    os.mkdir(TRAIN_PATH)\n",
    "\n",
    "if not os.path.exists(TEST_PATH):\n",
    "    os.mkdir(TEST_PATH)"
   ]
  },
  {
   "cell_type": "code",
   "execution_count": 181,
   "metadata": {},
   "outputs": [
    {
     "name": "stdout",
     "output_type": "stream",
     "text": [
      "jutsu 0\n",
      "jutsu is moved, continue\n",
      "thumbsdown 0\n",
      "thumbsdown is moved, continue\n",
      "thumbsup 0\n",
      "thumbsup is moved, continue\n"
     ]
    }
   ],
   "source": [
    "import numpy as np \n",
    "import re\n",
    "import shutil\n",
    "\n",
    "np.random.seed(101)\n",
    "# moving random data from classes folder to test and train\n",
    "test_size = .2 \n",
    "pattern1 = r'(.*)\\.[jpg|xml]'\n",
    "\n",
    "for label_dir in os.listdir(IMAGES_PATH):\n",
    "    label_dir_path = os.path.join(IMAGES_PATH, label_dir)\n",
    "    num_files = len( os.listdir( label_dir_path ) )\n",
    "    print(label_dir, num_files)\n",
    "    \n",
    "    if num_files == 0:\n",
    "        print(f'{label_dir} is moved, continue')\n",
    "        continue\n",
    "    \n",
    "    # Karena ada 2 ekstensi file untuk 1 foto (jpg dan xml) \n",
    "    # maka diambil set nya\n",
    "    data_name_temp = []\n",
    "    for data in os.listdir(label_dir_path):\n",
    "        searched = re.search(pattern1, data)\n",
    "        data_name_temp.append(searched.groups()[0])\n",
    "    \n",
    "    data_name_temp = np.array(list(set(data_name_temp)), dtype=np.str)\n",
    "    \n",
    "    # untuk setiap data akan diacak \n",
    "    np.random.shuffle(data_name_temp)\n",
    "    \n",
    "    # Todo: Melakukan pengambilan data \n",
    "    break_point = int(len(data_name_temp) * test_size)\n",
    "    \n",
    "    test_candidate = data_name_temp[:break_point]\n",
    "    \n",
    "    # untuk setiap kandidat data test akan dipindahkan ke folder test \n",
    "    for data_test in test_candidate:\n",
    "        # melakukan pencarian tiap data test pada direktori label dir path\n",
    "        pattern2 = r'(' + data_test + r'\\.[xmljpg]*)'\n",
    "        \n",
    "        for train_test_data in os.listdir(label_dir_path):\n",
    "            searched = re.search(pattern2, train_test_data)\n",
    "            # kalau bukan none maka test\n",
    "            if searched is not None:\n",
    "                test_data_use = searched.groups()[0]\n",
    "                source_path = os.path.join(label_dir_path, test_data_use)\n",
    "                # print(\"Test : \", source_path)\n",
    "                shutil.move(source_path, TEST_PATH)\n",
    "            # jika none maka train\n",
    "            else:\n",
    "                source_path = os.path.join(label_dir_path, train_test_data)\n",
    "                # print(\"Train : \", source_path)\n",
    "                shutil.move(source_path, TRAIN_PATH)\n",
    "        \n",
    "    # break"
   ]
  },
  {
   "cell_type": "markdown",
   "metadata": {},
   "source": [
    "# (OPSIONAL) 7. File tar jika mau menyimpan data dalam bentuk TAR dan diakses dari Google Collab"
   ]
  },
  {
   "cell_type": "code",
   "execution_count": 179,
   "metadata": {},
   "outputs": [],
   "source": [
    "import tarfile\n",
    "\n",
    "def make_tarfile(output_filename, source_dir):\n",
    "    with tarfile.open(output_filename, \"w:gz\") as tar:\n",
    "        for source in source_dir:\n",
    "            tar.add(source, arcname=os.path.basename(source))"
   ]
  },
  {
   "cell_type": "code",
   "execution_count": 180,
   "metadata": {},
   "outputs": [],
   "source": [
    "make_tarfile(ARCHIVE_PATH, [TRAIN_PATH, TEST_PATH])"
   ]
  }
 ],
 "metadata": {
  "interpreter": {
   "hash": "82ed002fa2d4956f5c6aec99bcefe0f73a9f79882f3c9e2319b14958a5896ac5"
  },
  "kernelspec": {
   "display_name": "Python 3.9.6 64-bit",
   "language": "python",
   "name": "python3"
  },
  "language_info": {
   "codemirror_mode": {
    "name": "ipython",
    "version": 3
   },
   "file_extension": ".py",
   "mimetype": "text/x-python",
   "name": "python",
   "nbconvert_exporter": "python",
   "pygments_lexer": "ipython3",
   "version": "3.9.6"
  }
 },
 "nbformat": 4,
 "nbformat_minor": 2
}
